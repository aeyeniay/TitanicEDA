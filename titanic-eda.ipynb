{
 "cells": [
  {
   "cell_type": "markdown",
   "id": "a86f0121",
   "metadata": {
    "papermill": {
     "duration": 0.004386,
     "end_time": "2024-07-02T14:57:49.284161",
     "exception": false,
     "start_time": "2024-07-02T14:57:49.279775",
     "status": "completed"
    },
    "tags": []
   },
   "source": [
    "# INTRODUCTION\n",
    "\n",
    "- The Titanic was a British passenger liner that sank on its maiden voyage from Southampton to New York City after hitting an iceberg on April 14, 1912. Of the over 2,200 passengers and crew aboard, more than 1,500 lost their lives. The ship was considered \"unsinkable\" due to its advanced design and safety features. The tragedy led to significant changes in maritime safety regulations. The Titanic's story remains one of the most famous maritime disasters in history.\n",
    "\n",
    "<font color = 'yellow' >\n",
    "Content: \n",
    "\n",
    "1. [Load and Check Data](#1)\n",
    "2. [Variable Description](#2)\n",
    "2. [Univariate Variable Analysis](#3)\n",
    "    * [Categorical Variable](#4)\n",
    "    * [Numerical Variable](#5)"
   ]
  },
  {
   "cell_type": "code",
   "execution_count": 1,
   "id": "f98e58c9",
   "metadata": {
    "_cell_guid": "b1076dfc-b9ad-4769-8c92-a6c4dae69d19",
    "_uuid": "8f2839f25d086af736a60e9eeb907d3b93b6e0e5",
    "execution": {
     "iopub.execute_input": "2024-07-02T14:57:49.294007Z",
     "iopub.status.busy": "2024-07-02T14:57:49.293606Z",
     "iopub.status.idle": "2024-07-02T14:57:51.424500Z",
     "shell.execute_reply": "2024-07-02T14:57:51.423382Z"
    },
    "papermill": {
     "duration": 2.13851,
     "end_time": "2024-07-02T14:57:51.426783",
     "exception": false,
     "start_time": "2024-07-02T14:57:49.288273",
     "status": "completed"
    },
    "tags": []
   },
   "outputs": [
    {
     "name": "stdout",
     "output_type": "stream",
     "text": [
      "/kaggle/input/titanic/train.csv\n",
      "/kaggle/input/titanic/test.csv\n",
      "/kaggle/input/titanic/gender_submission.csv\n"
     ]
    }
   ],
   "source": [
    "# This Python 3 environment comes with many helpful analytics libraries installed\n",
    "# It is defined by the kaggle/python Docker image: https://github.com/kaggle/docker-python\n",
    "# For example, here's several helpful packages to load\n",
    "\n",
    "import numpy as np # linear algebra\n",
    "import pandas as pd # data processing, CSV file I/O (e.g. pd.read_csv)\n",
    "\n",
    "import matplotlib.pyplot as plt\n",
    "import seaborn as sns\n",
    "sns.set(style=\"whitegrid\")\n",
    "\n",
    "from collections import Counter\n",
    "\n",
    "import warnings\n",
    "warnings.filterwarnings(\"ignore\")\n",
    "\n",
    "# Input data files are available in the read-only \"../input/\" directory\n",
    "# For example, running this (by clicking run or pressing Shift+Enter) will list all files under the input directory\n",
    "\n",
    "import os\n",
    "for dirname, _, filenames in os.walk('/kaggle/input'):\n",
    "    for filename in filenames:\n",
    "        print(os.path.join(dirname, filename))\n",
    "\n",
    "# You can write up to 20GB to the current directory (/kaggle/working/) that gets preserved as output when you create a version using \"Save & Run All\" \n",
    "# You can also write temporary files to /kaggle/temp/, but they won't be saved outside of the current session"
   ]
  },
  {
   "cell_type": "markdown",
   "id": "8664e815",
   "metadata": {
    "papermill": {
     "duration": 0.00373,
     "end_time": "2024-07-02T14:57:51.434606",
     "exception": false,
     "start_time": "2024-07-02T14:57:51.430876",
     "status": "completed"
    },
    "tags": []
   },
   "source": [
    "## 1. Load and Check Data\n",
    "<a id = \"1\"></a><br>"
   ]
  },
  {
   "cell_type": "code",
   "execution_count": 2,
   "id": "61deda45",
   "metadata": {
    "execution": {
     "iopub.execute_input": "2024-07-02T14:57:51.444098Z",
     "iopub.status.busy": "2024-07-02T14:57:51.443600Z",
     "iopub.status.idle": "2024-07-02T14:57:51.490193Z",
     "shell.execute_reply": "2024-07-02T14:57:51.489213Z"
    },
    "papermill": {
     "duration": 0.054155,
     "end_time": "2024-07-02T14:57:51.492750",
     "exception": false,
     "start_time": "2024-07-02T14:57:51.438595",
     "status": "completed"
    },
    "tags": []
   },
   "outputs": [],
   "source": [
    "train_df = pd.read_csv(\"/kaggle/input/titanic/train.csv\")\n",
    "test_df = pd.read_csv(\"/kaggle/input/titanic/test.csv\")\n",
    "test_PassengerId = test_df[\"PassengerId\"] # We saved test_PassengerId because we will use it later. Since we will perform many operations on test_df, we don't want to lose the original PassengerId. Therefore, we assigned it to a variable to use in later stages."
   ]
  },
  {
   "cell_type": "code",
   "execution_count": 3,
   "id": "8b60e546",
   "metadata": {
    "execution": {
     "iopub.execute_input": "2024-07-02T14:57:51.502572Z",
     "iopub.status.busy": "2024-07-02T14:57:51.502213Z",
     "iopub.status.idle": "2024-07-02T14:57:51.524204Z",
     "shell.execute_reply": "2024-07-02T14:57:51.523093Z"
    },
    "papermill": {
     "duration": 0.029675,
     "end_time": "2024-07-02T14:57:51.526634",
     "exception": false,
     "start_time": "2024-07-02T14:57:51.496959",
     "status": "completed"
    },
    "tags": []
   },
   "outputs": [
    {
     "data": {
      "text/html": [
       "<div>\n",
       "<style scoped>\n",
       "    .dataframe tbody tr th:only-of-type {\n",
       "        vertical-align: middle;\n",
       "    }\n",
       "\n",
       "    .dataframe tbody tr th {\n",
       "        vertical-align: top;\n",
       "    }\n",
       "\n",
       "    .dataframe thead th {\n",
       "        text-align: right;\n",
       "    }\n",
       "</style>\n",
       "<table border=\"1\" class=\"dataframe\">\n",
       "  <thead>\n",
       "    <tr style=\"text-align: right;\">\n",
       "      <th></th>\n",
       "      <th>PassengerId</th>\n",
       "      <th>Survived</th>\n",
       "      <th>Pclass</th>\n",
       "      <th>Name</th>\n",
       "      <th>Sex</th>\n",
       "      <th>Age</th>\n",
       "      <th>SibSp</th>\n",
       "      <th>Parch</th>\n",
       "      <th>Ticket</th>\n",
       "      <th>Fare</th>\n",
       "      <th>Cabin</th>\n",
       "      <th>Embarked</th>\n",
       "    </tr>\n",
       "  </thead>\n",
       "  <tbody>\n",
       "    <tr>\n",
       "      <th>0</th>\n",
       "      <td>1</td>\n",
       "      <td>0</td>\n",
       "      <td>3</td>\n",
       "      <td>Braund, Mr. Owen Harris</td>\n",
       "      <td>male</td>\n",
       "      <td>22.0</td>\n",
       "      <td>1</td>\n",
       "      <td>0</td>\n",
       "      <td>A/5 21171</td>\n",
       "      <td>7.2500</td>\n",
       "      <td>NaN</td>\n",
       "      <td>S</td>\n",
       "    </tr>\n",
       "    <tr>\n",
       "      <th>1</th>\n",
       "      <td>2</td>\n",
       "      <td>1</td>\n",
       "      <td>1</td>\n",
       "      <td>Cumings, Mrs. John Bradley (Florence Briggs Th...</td>\n",
       "      <td>female</td>\n",
       "      <td>38.0</td>\n",
       "      <td>1</td>\n",
       "      <td>0</td>\n",
       "      <td>PC 17599</td>\n",
       "      <td>71.2833</td>\n",
       "      <td>C85</td>\n",
       "      <td>C</td>\n",
       "    </tr>\n",
       "    <tr>\n",
       "      <th>2</th>\n",
       "      <td>3</td>\n",
       "      <td>1</td>\n",
       "      <td>3</td>\n",
       "      <td>Heikkinen, Miss. Laina</td>\n",
       "      <td>female</td>\n",
       "      <td>26.0</td>\n",
       "      <td>0</td>\n",
       "      <td>0</td>\n",
       "      <td>STON/O2. 3101282</td>\n",
       "      <td>7.9250</td>\n",
       "      <td>NaN</td>\n",
       "      <td>S</td>\n",
       "    </tr>\n",
       "    <tr>\n",
       "      <th>3</th>\n",
       "      <td>4</td>\n",
       "      <td>1</td>\n",
       "      <td>1</td>\n",
       "      <td>Futrelle, Mrs. Jacques Heath (Lily May Peel)</td>\n",
       "      <td>female</td>\n",
       "      <td>35.0</td>\n",
       "      <td>1</td>\n",
       "      <td>0</td>\n",
       "      <td>113803</td>\n",
       "      <td>53.1000</td>\n",
       "      <td>C123</td>\n",
       "      <td>S</td>\n",
       "    </tr>\n",
       "    <tr>\n",
       "      <th>4</th>\n",
       "      <td>5</td>\n",
       "      <td>0</td>\n",
       "      <td>3</td>\n",
       "      <td>Allen, Mr. William Henry</td>\n",
       "      <td>male</td>\n",
       "      <td>35.0</td>\n",
       "      <td>0</td>\n",
       "      <td>0</td>\n",
       "      <td>373450</td>\n",
       "      <td>8.0500</td>\n",
       "      <td>NaN</td>\n",
       "      <td>S</td>\n",
       "    </tr>\n",
       "  </tbody>\n",
       "</table>\n",
       "</div>"
      ],
      "text/plain": [
       "   PassengerId  Survived  Pclass  \\\n",
       "0            1         0       3   \n",
       "1            2         1       1   \n",
       "2            3         1       3   \n",
       "3            4         1       1   \n",
       "4            5         0       3   \n",
       "\n",
       "                                                Name     Sex   Age  SibSp  \\\n",
       "0                            Braund, Mr. Owen Harris    male  22.0      1   \n",
       "1  Cumings, Mrs. John Bradley (Florence Briggs Th...  female  38.0      1   \n",
       "2                             Heikkinen, Miss. Laina  female  26.0      0   \n",
       "3       Futrelle, Mrs. Jacques Heath (Lily May Peel)  female  35.0      1   \n",
       "4                           Allen, Mr. William Henry    male  35.0      0   \n",
       "\n",
       "   Parch            Ticket     Fare Cabin Embarked  \n",
       "0      0         A/5 21171   7.2500   NaN        S  \n",
       "1      0          PC 17599  71.2833   C85        C  \n",
       "2      0  STON/O2. 3101282   7.9250   NaN        S  \n",
       "3      0            113803  53.1000  C123        S  \n",
       "4      0            373450   8.0500   NaN        S  "
      ]
     },
     "execution_count": 3,
     "metadata": {},
     "output_type": "execute_result"
    }
   ],
   "source": [
    "train_df.head()"
   ]
  },
  {
   "cell_type": "code",
   "execution_count": 4,
   "id": "cbceefe1",
   "metadata": {
    "execution": {
     "iopub.execute_input": "2024-07-02T14:57:51.537551Z",
     "iopub.status.busy": "2024-07-02T14:57:51.536590Z",
     "iopub.status.idle": "2024-07-02T14:57:51.567989Z",
     "shell.execute_reply": "2024-07-02T14:57:51.566899Z"
    },
    "papermill": {
     "duration": 0.03906,
     "end_time": "2024-07-02T14:57:51.570214",
     "exception": false,
     "start_time": "2024-07-02T14:57:51.531154",
     "status": "completed"
    },
    "tags": []
   },
   "outputs": [
    {
     "data": {
      "text/html": [
       "<div>\n",
       "<style scoped>\n",
       "    .dataframe tbody tr th:only-of-type {\n",
       "        vertical-align: middle;\n",
       "    }\n",
       "\n",
       "    .dataframe tbody tr th {\n",
       "        vertical-align: top;\n",
       "    }\n",
       "\n",
       "    .dataframe thead th {\n",
       "        text-align: right;\n",
       "    }\n",
       "</style>\n",
       "<table border=\"1\" class=\"dataframe\">\n",
       "  <thead>\n",
       "    <tr style=\"text-align: right;\">\n",
       "      <th></th>\n",
       "      <th>PassengerId</th>\n",
       "      <th>Survived</th>\n",
       "      <th>Pclass</th>\n",
       "      <th>Age</th>\n",
       "      <th>SibSp</th>\n",
       "      <th>Parch</th>\n",
       "      <th>Fare</th>\n",
       "    </tr>\n",
       "  </thead>\n",
       "  <tbody>\n",
       "    <tr>\n",
       "      <th>count</th>\n",
       "      <td>891.000000</td>\n",
       "      <td>891.000000</td>\n",
       "      <td>891.000000</td>\n",
       "      <td>714.000000</td>\n",
       "      <td>891.000000</td>\n",
       "      <td>891.000000</td>\n",
       "      <td>891.000000</td>\n",
       "    </tr>\n",
       "    <tr>\n",
       "      <th>mean</th>\n",
       "      <td>446.000000</td>\n",
       "      <td>0.383838</td>\n",
       "      <td>2.308642</td>\n",
       "      <td>29.699118</td>\n",
       "      <td>0.523008</td>\n",
       "      <td>0.381594</td>\n",
       "      <td>32.204208</td>\n",
       "    </tr>\n",
       "    <tr>\n",
       "      <th>std</th>\n",
       "      <td>257.353842</td>\n",
       "      <td>0.486592</td>\n",
       "      <td>0.836071</td>\n",
       "      <td>14.526497</td>\n",
       "      <td>1.102743</td>\n",
       "      <td>0.806057</td>\n",
       "      <td>49.693429</td>\n",
       "    </tr>\n",
       "    <tr>\n",
       "      <th>min</th>\n",
       "      <td>1.000000</td>\n",
       "      <td>0.000000</td>\n",
       "      <td>1.000000</td>\n",
       "      <td>0.420000</td>\n",
       "      <td>0.000000</td>\n",
       "      <td>0.000000</td>\n",
       "      <td>0.000000</td>\n",
       "    </tr>\n",
       "    <tr>\n",
       "      <th>25%</th>\n",
       "      <td>223.500000</td>\n",
       "      <td>0.000000</td>\n",
       "      <td>2.000000</td>\n",
       "      <td>20.125000</td>\n",
       "      <td>0.000000</td>\n",
       "      <td>0.000000</td>\n",
       "      <td>7.910400</td>\n",
       "    </tr>\n",
       "    <tr>\n",
       "      <th>50%</th>\n",
       "      <td>446.000000</td>\n",
       "      <td>0.000000</td>\n",
       "      <td>3.000000</td>\n",
       "      <td>28.000000</td>\n",
       "      <td>0.000000</td>\n",
       "      <td>0.000000</td>\n",
       "      <td>14.454200</td>\n",
       "    </tr>\n",
       "    <tr>\n",
       "      <th>75%</th>\n",
       "      <td>668.500000</td>\n",
       "      <td>1.000000</td>\n",
       "      <td>3.000000</td>\n",
       "      <td>38.000000</td>\n",
       "      <td>1.000000</td>\n",
       "      <td>0.000000</td>\n",
       "      <td>31.000000</td>\n",
       "    </tr>\n",
       "    <tr>\n",
       "      <th>max</th>\n",
       "      <td>891.000000</td>\n",
       "      <td>1.000000</td>\n",
       "      <td>3.000000</td>\n",
       "      <td>80.000000</td>\n",
       "      <td>8.000000</td>\n",
       "      <td>6.000000</td>\n",
       "      <td>512.329200</td>\n",
       "    </tr>\n",
       "  </tbody>\n",
       "</table>\n",
       "</div>"
      ],
      "text/plain": [
       "       PassengerId    Survived      Pclass         Age       SibSp  \\\n",
       "count   891.000000  891.000000  891.000000  714.000000  891.000000   \n",
       "mean    446.000000    0.383838    2.308642   29.699118    0.523008   \n",
       "std     257.353842    0.486592    0.836071   14.526497    1.102743   \n",
       "min       1.000000    0.000000    1.000000    0.420000    0.000000   \n",
       "25%     223.500000    0.000000    2.000000   20.125000    0.000000   \n",
       "50%     446.000000    0.000000    3.000000   28.000000    0.000000   \n",
       "75%     668.500000    1.000000    3.000000   38.000000    1.000000   \n",
       "max     891.000000    1.000000    3.000000   80.000000    8.000000   \n",
       "\n",
       "            Parch        Fare  \n",
       "count  891.000000  891.000000  \n",
       "mean     0.381594   32.204208  \n",
       "std      0.806057   49.693429  \n",
       "min      0.000000    0.000000  \n",
       "25%      0.000000    7.910400  \n",
       "50%      0.000000   14.454200  \n",
       "75%      0.000000   31.000000  \n",
       "max      6.000000  512.329200  "
      ]
     },
     "execution_count": 4,
     "metadata": {},
     "output_type": "execute_result"
    }
   ],
   "source": [
    "train_df.describe()"
   ]
  },
  {
   "cell_type": "code",
   "execution_count": 5,
   "id": "df2c3462",
   "metadata": {
    "execution": {
     "iopub.execute_input": "2024-07-02T14:57:51.580721Z",
     "iopub.status.busy": "2024-07-02T14:57:51.580361Z",
     "iopub.status.idle": "2024-07-02T14:57:51.586477Z",
     "shell.execute_reply": "2024-07-02T14:57:51.585531Z"
    },
    "papermill": {
     "duration": 0.013972,
     "end_time": "2024-07-02T14:57:51.588690",
     "exception": false,
     "start_time": "2024-07-02T14:57:51.574718",
     "status": "completed"
    },
    "tags": []
   },
   "outputs": [
    {
     "data": {
      "text/plain": [
       "Index(['PassengerId', 'Survived', 'Pclass', 'Name', 'Sex', 'Age', 'SibSp',\n",
       "       'Parch', 'Ticket', 'Fare', 'Cabin', 'Embarked'],\n",
       "      dtype='object')"
      ]
     },
     "execution_count": 5,
     "metadata": {},
     "output_type": "execute_result"
    }
   ],
   "source": [
    "train_df.columns"
   ]
  },
  {
   "cell_type": "markdown",
   "id": "d0bb67eb",
   "metadata": {
    "papermill": {
     "duration": 0.004965,
     "end_time": "2024-07-02T14:57:51.598439",
     "exception": false,
     "start_time": "2024-07-02T14:57:51.593474",
     "status": "completed"
    },
    "tags": []
   },
   "source": [
    "## 2. Variable Description\n",
    "<a id = \"2\"></a><br>\n",
    "\n",
    "\n",
    "1. PassengerId: A unique identifier for each passenger.\n",
    "1. Survived: Indicates whether the passenger survived (1) or not (0).\n",
    "1. Pclass: The passenger's class on the ship, with 1 being the highest (first class), 2 the middle (second class), and 3 the lowest (third class).\n",
    "1. Name: The full name of the passenger.\n",
    "1. Sex: The gender of the passenger (male or female).\n",
    "1. Age: The age of the passenger.\n",
    "1. SibSp: The number of siblings or spouses the passenger had aboard the Titanic.\n",
    "1. Parch: The number of parents or children the passenger had aboard the Titanic.\n",
    "1. Ticket: The ticket number assigned to the passenger.\n",
    "1. Fare: The fare the passenger paid for the ticket.\n",
    "1. Cabin: The cabin number assigned to the passenger.\n",
    "1. Embarked: The port where the passenger boarded the Titanic. (C = Cherbourg; Q = Queenstown; S = Southampton)"
   ]
  },
  {
   "cell_type": "code",
   "execution_count": 6,
   "id": "2edc6faf",
   "metadata": {
    "execution": {
     "iopub.execute_input": "2024-07-02T14:57:51.609335Z",
     "iopub.status.busy": "2024-07-02T14:57:51.608974Z",
     "iopub.status.idle": "2024-07-02T14:57:51.632081Z",
     "shell.execute_reply": "2024-07-02T14:57:51.630940Z"
    },
    "papermill": {
     "duration": 0.030949,
     "end_time": "2024-07-02T14:57:51.634160",
     "exception": false,
     "start_time": "2024-07-02T14:57:51.603211",
     "status": "completed"
    },
    "tags": []
   },
   "outputs": [
    {
     "name": "stdout",
     "output_type": "stream",
     "text": [
      "<class 'pandas.core.frame.DataFrame'>\n",
      "RangeIndex: 891 entries, 0 to 890\n",
      "Data columns (total 12 columns):\n",
      " #   Column       Non-Null Count  Dtype  \n",
      "---  ------       --------------  -----  \n",
      " 0   PassengerId  891 non-null    int64  \n",
      " 1   Survived     891 non-null    int64  \n",
      " 2   Pclass       891 non-null    int64  \n",
      " 3   Name         891 non-null    object \n",
      " 4   Sex          891 non-null    object \n",
      " 5   Age          714 non-null    float64\n",
      " 6   SibSp        891 non-null    int64  \n",
      " 7   Parch        891 non-null    int64  \n",
      " 8   Ticket       891 non-null    object \n",
      " 9   Fare         891 non-null    float64\n",
      " 10  Cabin        204 non-null    object \n",
      " 11  Embarked     889 non-null    object \n",
      "dtypes: float64(2), int64(5), object(5)\n",
      "memory usage: 83.7+ KB\n"
     ]
    }
   ],
   "source": [
    "train_df.info()"
   ]
  },
  {
   "cell_type": "markdown",
   "id": "9d793753",
   "metadata": {
    "papermill": {
     "duration": 0.00452,
     "end_time": "2024-07-02T14:57:51.643554",
     "exception": false,
     "start_time": "2024-07-02T14:57:51.639034",
     "status": "completed"
    },
    "tags": []
   },
   "source": [
    "* float64(2): Fare, Age\n",
    "* int64(5)  : PassengerId, Survived, Pclass, SibSp, Parch\n",
    "* object(5) : Name, Sex, Ticket, Cabin, Embarked"
   ]
  },
  {
   "cell_type": "markdown",
   "id": "f942bcad",
   "metadata": {
    "papermill": {
     "duration": 0.004365,
     "end_time": "2024-07-02T14:57:51.652578",
     "exception": false,
     "start_time": "2024-07-02T14:57:51.648213",
     "status": "completed"
    },
    "tags": []
   },
   "source": [
    "## 3. Univariate Variable Analysis\n",
    "<a id = \"3\"></a><br>\n",
    "* Categorical Variable : Survived, Sex, Pclass, Embarked, Cabin, Name, Ticket, Sibsp, and Parch\n",
    "* Numerical Variable  : Age, PassengerId, and Fare"
   ]
  },
  {
   "cell_type": "markdown",
   "id": "5a5f5a8e",
   "metadata": {
    "papermill": {
     "duration": 0.004393,
     "end_time": "2024-07-02T14:57:51.661672",
     "exception": false,
     "start_time": "2024-07-02T14:57:51.657279",
     "status": "completed"
    },
    "tags": []
   },
   "source": [
    "### Categorical Variable:\n",
    "<a id = \"4\"></a><br>"
   ]
  },
  {
   "cell_type": "code",
   "execution_count": 7,
   "id": "702fa76c",
   "metadata": {
    "execution": {
     "iopub.execute_input": "2024-07-02T14:57:51.672570Z",
     "iopub.status.busy": "2024-07-02T14:57:51.672176Z",
     "iopub.status.idle": "2024-07-02T14:57:51.678787Z",
     "shell.execute_reply": "2024-07-02T14:57:51.677875Z"
    },
    "papermill": {
     "duration": 0.014683,
     "end_time": "2024-07-02T14:57:51.680910",
     "exception": false,
     "start_time": "2024-07-02T14:57:51.666227",
     "status": "completed"
    },
    "tags": []
   },
   "outputs": [],
   "source": [
    "def bar_plot(variable):\n",
    "    \"\"\"\n",
    "        input: variable ex.: \"Sex\"\n",
    "        output: bar plot & value count\n",
    "    \"\"\"\n",
    "    \n",
    "    # get feature\n",
    "    var = train_df[variable]\n",
    "    # count number of categorical variable (value/sample)\n",
    "    varValue = var.value_counts()\n",
    "    \n",
    "    # visualize\n",
    "    plt.figure(figsize = (9,3))\n",
    "    plt.bar(varValue.index, varValue)\n",
    "    plt.xticks(varValue.index, varValue.index.values)\n",
    "    plt.ylabel(\"Frequency\")\n",
    "    plt.title(variable)\n",
    "    plt.show()\n",
    "    print(\"{}: \\n {}\".format(variable, varValue))"
   ]
  },
  {
   "cell_type": "code",
   "execution_count": 8,
   "id": "7ddf1d6b",
   "metadata": {
    "execution": {
     "iopub.execute_input": "2024-07-02T14:57:51.692068Z",
     "iopub.status.busy": "2024-07-02T14:57:51.691451Z",
     "iopub.status.idle": "2024-07-02T14:57:53.127280Z",
     "shell.execute_reply": "2024-07-02T14:57:53.126097Z"
    },
    "papermill": {
     "duration": 1.443872,
     "end_time": "2024-07-02T14:57:53.129654",
     "exception": false,
     "start_time": "2024-07-02T14:57:51.685782",
     "status": "completed"
    },
    "tags": []
   },
   "outputs": [
    {
     "data": {
      "image/png": "[encoded data removed]",
      "text/plain": [
       "<Figure size 900x300 with 1 Axes>"
      ]
     },
     "metadata": {},
     "output_type": "display_data"
    },
    {
     "name": "stdout",
     "output_type": "stream",
     "text": [
      "Survived: \n",
      " Survived\n",
      "0    549\n",
      "1    342\n",
      "Name: count, dtype: int64\n"
     ]
    },
    {
     "data": {
      "image/png": "[encoded data removed]",
      "text/plain": [
       "<Figure size 900x300 with 1 Axes>"
      ]
     },
     "metadata": {},
     "output_type": "display_data"
    },
    {
     "name": "stdout",
     "output_type": "stream",
     "text": [
      "Sex: \n",
      " Sex\n",
      "male      577\n",
      "female    314\n",
      "Name: count, dtype: int64\n"
     ]
    },
    {
     "data": {
      "image/png": "[encoded data removed]",
      "text/plain": [
       "<Figure size 900x300 with 1 Axes>"
      ]
     },
     "metadata": {},
     "output_type": "display_data"
    },
    {
     "name": "stdout",
     "output_type": "stream",
     "text": [
      "Pclass: \n",
      " Pclass\n",
      "3    491\n",
      "1    216\n",
      "2    184\n",
      "Name: count, dtype: int64\n"
     ]
    },
    {
     "data": {
      "image/png": "[encoded data removed]",
      "text/plain": [
       "<Figure size 900x300 with 1 Axes>"
      ]
     },
     "metadata": {},
     "output_type": "display_data"
    },
    {
     "name": "stdout",
     "output_type": "stream",
     "text": [
      "Embarked: \n",
      " Embarked\n",
      "S    644\n",
      "C    168\n",
      "Q     77\n",
      "Name: count, dtype: int64\n"
     ]
    },
    {
     "data": {
      "image/png": "[encoded data removed]",
      "text/plain": [
       "<Figure size 900x300 with 1 Axes>"
      ]
     },
     "metadata": {},
     "output_type": "display_data"
    },
    {
     "name": "stdout",
     "output_type": "stream",
     "text": [
      "SibSp: \n",
      " SibSp\n",
      "0    608\n",
      "1    209\n",
      "2     28\n",
      "4     18\n",
      "3     16\n",
      "8      7\n",
      "5      5\n",
      "Name: count, dtype: int64\n"
     ]
    },
    {
     "data": {
      "image/png": "[encoded data removed]",
      "text/plain": [
       "<Figure size 900x300 with 1 Axes>"
      ]
     },
     "metadata": {},
     "output_type": "display_data"
    },
    {
     "name": "stdout",
     "output_type": "stream",
     "text": [
      "Parch: \n",
      " Parch\n",
      "0    678\n",
      "1    118\n",
      "2     80\n",
      "5      5\n",
      "3      5\n",
      "4      4\n",
      "6      1\n",
      "Name: count, dtype: int64\n"
     ]
    }
   ],
   "source": [
    "category1 = [\"Survived\", \"Sex\", \"Pclass\", \"Embarked\", \"SibSp\", \"Parch\"]\n",
    "for c in category1:\n",
    "    bar_plot(c)"
   ]
  },
  {
   "cell_type": "markdown",
   "id": "12728006",
   "metadata": {
    "papermill": {
     "duration": 0.006667,
     "end_time": "2024-07-02T14:57:53.143358",
     "exception": false,
     "start_time": "2024-07-02T14:57:53.136691",
     "status": "completed"
    },
    "tags": []
   },
   "source": [
    "### Numerical Variable:\n",
    "<a id = \"5\"></a><br>"
   ]
  },
  {
   "cell_type": "code",
   "execution_count": null,
   "id": "7a31e07f",
   "metadata": {
    "papermill": {
     "duration": 0.006741,
     "end_time": "2024-07-02T14:57:53.156872",
     "exception": false,
     "start_time": "2024-07-02T14:57:53.150131",
     "status": "completed"
    },
    "tags": []
   },
   "outputs": [],
   "source": []
  }
 ],
 "metadata": {
  "kaggle": {
   "accelerator": "none",
   "dataSources": [
    {
     "databundleVersionId": 26502,
     "sourceId": 3136,
     "sourceType": "competition"
    }
   ],
   "dockerImageVersionId": 30732,
   "isGpuEnabled": false,
   "isInternetEnabled": true,
   "language": "python",
   "sourceType": "notebook"
  },
  "kernelspec": {
   "display_name": "Python 3",
   "language": "python",
   "name": "python3"
  },
  "language_info": {
   "codemirror_mode": {
    "name": "ipython",
    "version": 3
   },
   "file_extension": ".py",
   "mimetype": "text/x-python",
   "name": "python",
   "nbconvert_exporter": "python",
   "pygments_lexer": "ipython3",
   "version": "3.10.13"
  },
  "papermill": {
   "default_parameters": {},
   "duration": 7.129145,
   "end_time": "2024-07-02T14:57:53.683402",
   "environment_variables": {},
   "exception": null,
   "input_path": "__notebook__.ipynb",
   "output_path": "__notebook__.ipynb",
   "parameters": {},
   "start_time": "2024-07-02T14:57:46.554257",
   "version": "2.5.0"
  }
 },
 "nbformat": 4,
 "nbformat_minor": 5
}
